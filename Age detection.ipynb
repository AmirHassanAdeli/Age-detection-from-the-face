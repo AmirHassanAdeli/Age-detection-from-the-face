{
 "cells": [
  {
   "metadata": {},
   "cell_type": "code",
   "outputs": [],
   "execution_count": null,
   "source": [
    "import cv2\n",
    "import os\n",
    "import numpy as np\n",
    "import pandas as pd\n",
    "import tensorflow as tf\n",
    "from tensorflow.keras.models import Sequential\n",
    "from tensorflow.keras.layers import Conv2D, MaxPooling2D, GlobalAveragePooling2D, Dense, Input\n",
    "from tensorflow.keras.utils import load_img, img_to_array\n",
    "from sklearn.model_selection import train_test_split\n",
    "from matplotlib import pyplot as plt"
   ],
   "id": "395e089b1098f795"
  },
  {
   "metadata": {},
   "cell_type": "code",
   "outputs": [],
   "execution_count": null,
   "source": [
    "# base_dir = 'datasets/UTKFace'\n",
    "base_dir = 'mimiDataSet'"
   ],
   "id": "e0bb1007e3908618"
  },
  {
   "metadata": {},
   "cell_type": "code",
   "outputs": [],
   "execution_count": null,
   "source": "images = os.listdir(base_dir)",
   "id": "6db545abd7afad2b"
  },
  {
   "metadata": {},
   "cell_type": "code",
   "outputs": [],
   "execution_count": null,
   "source": "images[0].split('_')",
   "id": "40bd7e1eb8e76a42"
  },
  {
   "metadata": {},
   "cell_type": "code",
   "outputs": [],
   "execution_count": null,
   "source": [
    "image_paths = []\n",
    "age_label = []\n",
    "gender_label = []\n",
    "\n",
    "for filename in images:\n",
    "    image_path = os.path.join(base_dir, filename)\n",
    "    temp = filename.split('_')\n",
    "\n",
    "    if str(temp[0]).isnumeric():\n",
    "        image_paths.append(image_path)\n",
    "        age_label.append(int(temp[0]))\n"
   ],
   "id": "e67c6fde0266245f"
  },
  {
   "metadata": {},
   "cell_type": "code",
   "outputs": [],
   "execution_count": null,
   "source": [
    "def make_dataset(images):\n",
    "    features = []  # List to hold processed images\n",
    "\n",
    "    for image in images:\n",
    "        # Step 1: Load image with specified size and RGB color\n",
    "        img = load_img(\n",
    "            image,\n",
    "            target_size=(128, 128),\n",
    "            color_mode='rgb',\n",
    "            interpolation='lanczos',\n",
    "        )\n",
    "\n",
    "        # Step 2: Convert to numpy array\n",
    "        img_array = img_to_array(img)\n",
    "\n",
    "        # Step 3: Normalization (pixel values between 0 and 1)\n",
    "        img_array = img_array / 255.0\n",
    "\n",
    "        # Step 4: Add to list (without expand_dims)\n",
    "        features.append(img_array)\n",
    "\n",
    "    # Step 5: Convert the list to a numpy array of shape (N, 128, 128, 3)\n",
    "    features = np.array(features)\n",
    "\n",
    "    return features\n"
   ],
   "id": "37cd155c193eea3d"
  },
  {
   "metadata": {},
   "cell_type": "code",
   "outputs": [],
   "execution_count": null,
   "source": [
    "x = make_dataset(image_paths)\n",
    "x.shape"
   ],
   "id": "9ed2ca54c1495a8b"
  },
  {
   "metadata": {},
   "cell_type": "code",
   "outputs": [],
   "execution_count": null,
   "source": [
    "y = np.array(age_label)\n",
    "y.shape"
   ],
   "id": "d75102198530daa"
  },
  {
   "metadata": {},
   "cell_type": "code",
   "outputs": [],
   "execution_count": null,
   "source": [
    "model = Sequential()\n",
    "\n",
    "model.add(Input(shape=(128, 128, 3)))  # Define the input individually\n",
    "\n",
    "model.add(Conv2D(filters=32, kernel_size=(3,3), activation='relu'))\n",
    "model.add(MaxPooling2D(pool_size=(2,2)))\n",
    "\n",
    "model.add(Conv2D(filters=64, kernel_size=(3,3), activation='relu'))\n",
    "model.add(MaxPooling2D(pool_size=(2,2)))\n",
    "\n",
    "model.add(Conv2D(filters=128, kernel_size=(3,3), activation='relu'))\n",
    "model.add(MaxPooling2D(pool_size=(2,2)))\n",
    "\n",
    "model.add(Conv2D(filters=256, kernel_size=(3,3), activation='relu'))\n",
    "model.add(MaxPooling2D(pool_size=(2,2)))\n",
    "\n",
    "model.add(GlobalAveragePooling2D())\n",
    "\n",
    "model.add(Dense(units=132, activation='relu'))\n",
    "\n",
    "model.add(Dense(1))  # The final output\n",
    "\n",
    "model.summary()\n"
   ],
   "id": "44db421f5357ee59"
  },
  {
   "metadata": {},
   "cell_type": "code",
   "outputs": [],
   "execution_count": null,
   "source": "model.compile(loss='mse', optimizer='adam' , metrics=['accuracy'] )",
   "id": "577e4b67e40ef602"
  },
  {
   "metadata": {},
   "cell_type": "code",
   "outputs": [],
   "execution_count": null,
   "source": [
    "x_train, x_test, y_train, y_test = train_test_split(x, y, test_size=0.2, random_state=42 )\n",
    "model.fit(x_train, y_train, epochs=10, validation_data=(x_test, y_test))"
   ],
   "id": "fa150d28008a74a9"
  },
  {
   "metadata": {},
   "cell_type": "code",
   "outputs": [],
   "execution_count": null,
   "source": "#keras.saving.save_model(model, 'my_model.keras')",
   "id": "87567b18e2dde7c5"
  },
  {
   "metadata": {},
   "cell_type": "code",
   "outputs": [],
   "execution_count": null,
   "source": [
    "import matplotlib.pyplot as plt\n",
    "\n",
    "image_index = 4\n",
    "\n",
    "# Display the actual value\n",
    "print(\"🎯 Original Age:\", y_test[image_index])\n",
    "\n",
    "# Age prediction\n",
    "pred = model.predict(x_test[image_index].reshape(1, 128, 128, 3))\n",
    "\n",
    "print(\"🤖 Predicted Age:\", int(pred[0][0]))\n",
    "\n",
    "# Display image\n",
    "plt.imshow(x_test[image_index])\n",
    "plt.axis('off')\n",
    "plt.title(\"Test Image\")\n",
    "plt.show()\n"
   ],
   "id": "b6cc35e05da18c6d"
  },
  {
   "metadata": {},
   "cell_type": "code",
   "outputs": [],
   "execution_count": null,
   "source": [
    "def make_test(images):\n",
    "    features = []  # List to hold processed images\n",
    "\n",
    "    for image in images:\n",
    "        # Step 1: Load image with specified size and RGB color\n",
    "        img = load_img(\n",
    "            image,\n",
    "            target_size=(128, 128),\n",
    "            color_mode='rgb',\n",
    "            interpolation='lanczos',\n",
    "        )\n",
    "\n",
    "        # Step 2: Convert to numpy array\n",
    "        img_array = img_to_array(img)\n",
    "\n",
    "        # Step 3: Normalization (pixel values between 0 and 1)\n",
    "        img_array = img_array / 255.0\n",
    "\n",
    "        # Step 4: Add to list (without expand_dims)\n",
    "        features.append(img_array)\n",
    "\n",
    "    # Step 5: Convert the list to a numpy array of shape (N, 128, 128, 3)\n",
    "    features = np.array(features)\n",
    "\n",
    "    return features"
   ],
   "id": "be54cd1328adaa81"
  },
  {
   "metadata": {},
   "cell_type": "code",
   "outputs": [],
   "execution_count": null,
   "source": "test1 = make_test('test.jpg')",
   "id": "56a2a94d60c1e9e7"
  }
 ],
 "metadata": {
  "kernelspec": {
   "display_name": "Python 3",
   "language": "python",
   "name": "python3"
  },
  "language_info": {
   "codemirror_mode": {
    "name": "ipython",
    "version": 2
   },
   "file_extension": ".py",
   "mimetype": "text/x-python",
   "name": "python",
   "nbconvert_exporter": "python",
   "pygments_lexer": "ipython2",
   "version": "2.7.6"
  }
 },
 "nbformat": 4,
 "nbformat_minor": 5
}
