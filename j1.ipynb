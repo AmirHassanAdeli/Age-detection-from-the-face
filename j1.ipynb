{
 "cells": [
  {
   "cell_type": "code",
   "id": "initial_id",
   "metadata": {
    "collapsed": true
   },
   "source": [
    "import cv2\n",
    "import os\n",
    "import numpy as np\n",
    "import pandas as pd\n",
    "import tensorflow as tf\n",
    "from tensorflow.keras.models import Sequential\n",
    "from tensorflow.keras.layers import Conv2D, MaxPooling2D, GlobalAveragePooling2D, Dense, Input\n",
    "from tensorflow.keras.utils import load_img, img_to_array\n",
    "from sklearn.model_selection import train_test_split\n",
    "from matplotlib import pyplot as plt"
   ],
   "outputs": [],
   "execution_count": null
  },
  {
   "metadata": {},
   "cell_type": "code",
   "source": [
    "# base_dir = 'datasets/UTKFace'\n",
    "base_dir = 'mimiDataSet'"
   ],
   "id": "2b3dedd56c3bfb3f",
   "outputs": [],
   "execution_count": null
  },
  {
   "metadata": {},
   "cell_type": "code",
   "source": "images = os.listdir(base_dir)",
   "id": "e91ae73e51ca9a75",
   "outputs": [],
   "execution_count": null
  },
  {
   "metadata": {},
   "cell_type": "code",
   "source": "images[0].split('_')",
   "id": "5e45a4969596272d",
   "outputs": [],
   "execution_count": null
  },
  {
   "metadata": {},
   "cell_type": "code",
   "source": [
    "image_paths = []\n",
    "age_label = []\n",
    "gender_label = []\n",
    "\n",
    "for filename in images:\n",
    "    image_path = os.path.join(base_dir, filename)\n",
    "    temp = filename.split('_')\n",
    "\n",
    "    if str(temp[0]).isnumeric():\n",
    "        image_paths.append(image_path)\n",
    "        age_label.append(int(temp[0]))\n"
   ],
   "id": "5b6843c1a13a0d6a",
   "outputs": [],
   "execution_count": null
  },
  {
   "metadata": {},
   "cell_type": "code",
   "source": [
    "def make_dataset(images):\n",
    "    features = []  # لیست برای نگه داشتن تصاویر پردازش‌شده\n",
    "\n",
    "    for image in images:\n",
    "        # مرحله 1: بارگذاری تصویر با اندازه مشخص و رنگ RGB\n",
    "        img = load_img(\n",
    "            image,\n",
    "            target_size=(128, 128),\n",
    "            color_mode='rgb',\n",
    "            interpolation='lanczos',\n",
    "        )\n",
    "\n",
    "        # مرحله 2: تبدیل به آرایه numpy\n",
    "        img_array = img_to_array(img)\n",
    "\n",
    "        # مرحله 3: نرمال‌سازی (مقدار پیکسل‌ها بین 0 تا 1)\n",
    "        img_array = img_array / 255.0\n",
    "\n",
    "        # مرحله 4: اضافه کردن به لیست (بدون expand_dims)\n",
    "        features.append(img_array)\n",
    "\n",
    "    # مرحله 5: تبدیل لیست به آرایه numpy با شکل (N, 128, 128, 3)\n",
    "    features = np.array(features)\n",
    "\n",
    "    return features\n"
   ],
   "id": "5678a992b8b0fb18",
   "outputs": [],
   "execution_count": null
  },
  {
   "metadata": {},
   "cell_type": "code",
   "source": [
    "x = make_dataset(image_paths)\n",
    "x.shape"
   ],
   "id": "3c51f030a5981aea",
   "outputs": [],
   "execution_count": null
  },
  {
   "metadata": {},
   "cell_type": "code",
   "source": [
    "y = np.array(age_label)\n",
    "y.shape"
   ],
   "id": "d62cb853a56fca20",
   "outputs": [],
   "execution_count": null
  },
  {
   "metadata": {},
   "cell_type": "code",
   "source": [
    "model = Sequential()\n",
    "\n",
    "model.add(Input(shape=(128, 128, 3)))  # تعریف ورودی به صورت جداگانه\n",
    "\n",
    "model.add(Conv2D(filters=32, kernel_size=(3,3), activation='relu'))\n",
    "model.add(MaxPooling2D(pool_size=(2,2)))\n",
    "\n",
    "model.add(Conv2D(filters=64, kernel_size=(3,3), activation='relu'))\n",
    "model.add(MaxPooling2D(pool_size=(2,2)))\n",
    "\n",
    "model.add(Conv2D(filters=128, kernel_size=(3,3), activation='relu'))\n",
    "model.add(MaxPooling2D(pool_size=(2,2)))\n",
    "\n",
    "model.add(Conv2D(filters=256, kernel_size=(3,3), activation='relu'))\n",
    "model.add(MaxPooling2D(pool_size=(2,2)))\n",
    "\n",
    "model.add(GlobalAveragePooling2D())\n",
    "\n",
    "model.add(Dense(units=132, activation='relu'))\n",
    "\n",
    "model.add(Dense(1))  # خروجی نهایی\n",
    "\n",
    "model.summary()\n"
   ],
   "id": "d9f9d8cb060adf4a",
   "outputs": [],
   "execution_count": null
  },
  {
   "metadata": {},
   "cell_type": "code",
   "source": "model.compile(loss='mse', optimizer='adam' , metrics=['accuracy'] )",
   "id": "3fbf47983187bcc7",
   "outputs": [],
   "execution_count": null
  },
  {
   "metadata": {},
   "cell_type": "code",
   "source": [
    "x_train, x_test, y_train, y_test = train_test_split(x, y, test_size=0.2, random_state=42 )\n",
    "model.fit(x_train, y_train, epochs=10, validation_data=(x_test, y_test))"
   ],
   "id": "bed9db731dd2f4bf",
   "outputs": [],
   "execution_count": null
  },
  {
   "metadata": {},
   "cell_type": "code",
   "source": "keras.saving.save_model(model, 'my_model.keras')",
   "id": "51a8e50dd41467f6",
   "outputs": [],
   "execution_count": null
  },
  {
   "metadata": {},
   "cell_type": "code",
   "source": [
    "import matplotlib.pyplot as plt\n",
    "\n",
    "image_index = 4\n",
    "\n",
    "# نمایش مقدار واقعی\n",
    "print(\"🎯 Original Age:\", y_test[image_index])\n",
    "\n",
    "# پیش‌بینی سن\n",
    "pred = model.predict(x_test[image_index].reshape(1, 128, 128, 3))\n",
    "\n",
    "print(\"🤖 Predicted Age:\", int(pred[0][0]))\n",
    "\n",
    "# نمایش تصویر\n",
    "plt.imshow(x_test[image_index])\n",
    "plt.axis('off')\n",
    "plt.title(\"Test Image\")\n",
    "plt.show()\n"
   ],
   "id": "324c4526fb494f4",
   "outputs": [],
   "execution_count": null
  },
  {
   "metadata": {},
   "cell_type": "code",
   "source": [
    "def make_test(images):\n",
    "    features = []  # لیستی برای نگه داشتن همه‌ی تصاویر پردازش‌شده\n",
    "\n",
    "    # Step 1: Load the image\n",
    "    img = load_img(\n",
    "        images,\n",
    "        target_size=(128, 128),\n",
    "        color_mode='rgb',\n",
    "        interpolation='lanczos',\n",
    "    )\n",
    "\n",
    "    # Step 2: Convert to numpy array\n",
    "    img_array = img_to_array(img)\n",
    "\n",
    "    # Step 3: Normalize (اختیاری ولی معمول برای شبکه‌های عصبی)\n",
    "    img_array = img_array / 255.0\n",
    "\n",
    "    # Step 4: Expand dimensions (اگر می‌خوای با مدل Keras استفاده کنی)\n",
    "    img_array = np.expand_dims(img_array, axis=0)\n",
    "\n",
    "    # Step 5: Add to features\n",
    "    features.append(img_array)\n",
    "\n",
    "    # Optional: Merge all into a single array with shape (N, 128, 128, 3)\n",
    "    features = np.vstack(features)\n",
    "\n",
    "    return features"
   ],
   "id": "a2385d18e6debf3b",
   "outputs": [],
   "execution_count": null
  },
  {
   "metadata": {},
   "cell_type": "code",
   "source": "test1 = make_test('test.jpg')",
   "id": "e3b17c6e06ae1528",
   "outputs": [],
   "execution_count": null
  }
 ],
 "metadata": {
  "kernelspec": {
   "display_name": "Python 3",
   "language": "python",
   "name": "python3"
  },
  "language_info": {
   "codemirror_mode": {
    "name": "ipython",
    "version": 2
   },
   "file_extension": ".py",
   "mimetype": "text/x-python",
   "name": "python",
   "nbconvert_exporter": "python",
   "pygments_lexer": "ipython2",
   "version": "2.7.6"
  }
 },
 "nbformat": 4,
 "nbformat_minor": 5
}
